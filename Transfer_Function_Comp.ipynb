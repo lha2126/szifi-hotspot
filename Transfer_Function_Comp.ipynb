{
 "cells": [
  {
   "cell_type": "code",
   "execution_count": null,
   "id": "6c5b1753-bce6-40b2-ab3a-6e8e628a043d",
   "metadata": {},
   "outputs": [],
   "source": [
    "import os\n",
    "import camb"
   ]
  },
  {
   "cell_type": "code",
   "execution_count": null,
   "id": "37a0b7a2-7e7a-4dfe-808d-ddc3e7a032cb",
   "metadata": {},
   "outputs": [],
   "source": [
    "pars = camb.CAMBparams()\n",
    "pars = camb.set_params(H0=67.32, ombh2=0.022383, omch2=0.12011,tau=0.0543,mnu=0.06,omk=0,standard_neutrino_neff=True,  \n",
    "                       As=2.1005829616811546e-9, ns=0.965, halofit_version='mead', lmax=3500)"
   ]
  },
  {
   "cell_type": "code",
   "execution_count": null,
   "id": "4ba7c043-941a-4356-a00d-2486310374a3",
   "metadata": {},
   "outputs": [],
   "source": [
    "#This is essentially from Oliver's PolySpec Github\n",
    "transfer_file = 'camb_output3500_Ecorrected.npz'#camb_transfer_3500.npz\n",
    "\n",
    "if not os.path.exists(transfer_file):  # removed the complication of an overarching root, and it just dumps things out in your directory\n",
    "    print(\"Computing transfer functions...\")\n",
    "    \n",
    "    # Transfer function settings\n",
    "    pars.DoLensing = True\n",
    "    pars.BessIntBoost = 30\n",
    "    pars.KmaxBoost = 3\n",
    "    pars.IntTolBoost = 4\n",
    "    pars.TimeStepBoost = 5\n",
    "    pars.SourcekAccuracyBoost = 5\n",
    "    pars.BesselBoost = 5\n",
    "    pars.IntkAccuracyBoost = 5\n",
    "    pars.AccurateBB = True\n",
    "    pars.AccurateReionization = True\n",
    "    pars.AccuratePolarization = True\n",
    "    pars.set_accuracy(DoLateRadTruncation=False, AccuracyBoost=5, \n",
    "                     lSampleBoost=50, lAccuracyBoost=3)\n",
    "\n",
    "    # Compute transfer functions and spectra    \n",
    "    results = camb.get_results(pars)\n",
    "    trans = results.get_cmb_transfer_data()\n",
    "    ls, qs, DeltasT = trans.get_transfer(source=0)\n",
    "    ls, qs, DeltasE = trans.get_transfer(source=1)\n",
    "\n",
    "    # Rescale E mode amplitude\n",
    "    ls = ls.astype(int)\n",
    "    prefactorE = np.sqrt((ls + 2) * (ls + 1) * ls * (ls - 1))\n",
    "    DeltasE *= prefactorE[:,None]\n",
    "\n",
    "    # Save transfer functions to current directory\n",
    "    np.savez(transfer_file, l=ls, k=qs, transfer=np.asarray([DeltasT, DeltasE]))\n",
    "    print(f\"Transfer functions saved to {os.path.abspath(transfer_file)}\")\n",
    "else:\n",
    "    print(f\"Using existing transfer file: {os.path.abspath(transfer_file)}\")"
   ]
  },
  {
   "cell_type": "markdown",
   "id": "3915acbb-a728-48db-910a-f0e4a221a310",
   "metadata": {},
   "source": [
    "An Earlier Iteration Where I was saving things as a text file"
   ]
  },
  {
   "cell_type": "code",
   "execution_count": null,
   "id": "0302ca9e-e72f-42d3-963c-74b8035a0148",
   "metadata": {},
   "outputs": [],
   "source": []
  },
  {
   "cell_type": "code",
   "execution_count": null,
   "id": "af8e680f-94e1-417f-bfde-b24540ae60b4",
   "metadata": {},
   "outputs": [],
   "source": []
  }
 ],
 "metadata": {
  "kernelspec": {
   "display_name": "Python 3 (ipykernel)",
   "language": "python",
   "name": "python3"
  },
  "language_info": {
   "codemirror_mode": {
    "name": "ipython",
    "version": 3
   },
   "file_extension": ".py",
   "mimetype": "text/x-python",
   "name": "python",
   "nbconvert_exporter": "python",
   "pygments_lexer": "ipython3",
   "version": "3.12.11"
  }
 },
 "nbformat": 4,
 "nbformat_minor": 5
}
