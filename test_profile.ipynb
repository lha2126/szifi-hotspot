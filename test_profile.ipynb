{
 "cells": [
  {
   "cell_type": "markdown",
   "metadata": {},
   "source": [
    "### Hotspot Profiles\n",
    "\n",
    "These are usually computed internally within the modified szifi code. Here, we'll compute the profile explicitly. "
   ]
  },
  {
   "cell_type": "code",
   "execution_count": 23,
   "metadata": {},
   "outputs": [
    {
     "name": "stdout",
     "output_type": "stream",
     "text": [
      "%pylab is deprecated, use %matplotlib inline and import the required libraries.\n",
      "Populating the interactive namespace from numpy and matplotlib\n"
     ]
    }
   ],
   "source": [
    "%pylab inline\n",
    "from scipy.special import spherical_jn,sici,lpmn\n",
    "import camb\n",
    "from scipy import integrate"
   ]
  },
  {
   "cell_type": "code",
   "execution_count": 2,
   "metadata": {},
   "outputs": [],
   "source": [
    "# Load camb\n",
    "pars = camb.CAMBparams()\n",
    "pars.set_cosmology(H0=67.32, ombh2=0.022383, omch2=0.12011,tau=0.0543,mnu=0.06,omk=0,standard_neutrino_neff=True)\n",
    "As = 1e-10*np.exp(3.0448)\n",
    "pars.InitPower.set_params(ns=0.96605,r=0.,pivot_scalar=0.05,As=As)\n",
    "\n",
    "DeltaSq_zeta = As*2*np.pi**2 # primordial amplitude (from Planck)\n",
    "H2_dotphi = np.sqrt(As*4.*np.pi**2.) # H^2 / dot{phi} in inflation [if scale invariant]"
   ]
  },
  {
   "cell_type": "code",
   "execution_count": 32,
   "metadata": {},
   "outputs": [
    {
     "name": "stderr",
     "output_type": "stream",
     "text": [
      "/tmp/ipykernel_49902/787372968.py:17: RuntimeWarning: invalid value encountered in sqrt\n",
      "  transferE_func *= np.sqrt((transfer_l + 2) * (transfer_l + 1) * transfer_l * (transfer_l - 1))\n"
     ]
    },
    {
     "ename": "ValueError",
     "evalue": "operands could not be broadcast together with shapes (3499,1994) (3499,) (3499,1994) ",
     "output_type": "error",
     "traceback": [
      "\u001b[0;31m---------------------------------------------------------------------------\u001b[0m",
      "\u001b[0;31mValueError\u001b[0m                                Traceback (most recent call last)",
      "Cell \u001b[0;32mIn[32], line 17\u001b[0m\n\u001b[1;32m     15\u001b[0m transferT_func \u001b[38;5;241m=\u001b[39m transfer[\u001b[38;5;124m'\u001b[39m\u001b[38;5;124mtransfer\u001b[39m\u001b[38;5;124m'\u001b[39m][\u001b[38;5;241m0\u001b[39m][:lmax\u001b[38;5;241m-\u001b[39m\u001b[38;5;241m1\u001b[39m,::reduce_k][:,filt_k] \u001b[38;5;66;03m# T-modes\u001b[39;00m\n\u001b[1;32m     16\u001b[0m transferE_func \u001b[38;5;241m=\u001b[39m transfer[\u001b[38;5;124m'\u001b[39m\u001b[38;5;124mtransfer\u001b[39m\u001b[38;5;124m'\u001b[39m][\u001b[38;5;241m1\u001b[39m][:lmax\u001b[38;5;241m-\u001b[39m\u001b[38;5;241m1\u001b[39m,::reduce_k][:,filt_k] \u001b[38;5;66;03m# E-modes\u001b[39;00m\n\u001b[0;32m---> 17\u001b[0m transferE_func \u001b[38;5;241m*\u001b[39m\u001b[38;5;241m=\u001b[39m np\u001b[38;5;241m.\u001b[39msqrt((transfer_l \u001b[38;5;241m+\u001b[39m \u001b[38;5;241m2\u001b[39m) \u001b[38;5;241m*\u001b[39m (transfer_l \u001b[38;5;241m+\u001b[39m \u001b[38;5;241m1\u001b[39m) \u001b[38;5;241m*\u001b[39m transfer_l \u001b[38;5;241m*\u001b[39m (transfer_l \u001b[38;5;241m-\u001b[39m \u001b[38;5;241m1\u001b[39m))\n",
      "\u001b[0;31mValueError\u001b[0m: operands could not be broadcast together with shapes (3499,1994) (3499,) (3499,1994) "
     ]
    }
   ],
   "source": [
    "# Load precomputed transfer function from file\n",
    "transfer = np.load('camb_output3500.npz')\n",
    "\n",
    "# Resolution parameters\n",
    "reduce_k = 10\n",
    "lmax = 3500\n",
    "kmin = 1e-6\n",
    "kmax = 1\n",
    "\n",
    "# Restrict transfer function to relevant range\n",
    "k = transfer['k'][::reduce_k]\n",
    "filt_k = (k>kmin)*(k<kmax)\n",
    "transfer_k = k[filt_k]\n",
    "transfer_l = transfer['l'][:lmax-1]\n",
    "transferT_func = transfer['transfer'][0][:lmax-1,::reduce_k][:,filt_k] # T-modes\n",
    "transferE_func = transfer['transfer'][1][:lmax-1,::reduce_k][:,filt_k] # E-modes\n",
    "transferE_func *= np.sqrt((transfer_l + 2) * (transfer_l + 1) * transfer_l * (transfer_l - 1))"
   ]
  },
  {
   "cell_type": "code",
   "execution_count": 18,
   "metadata": {},
   "outputs": [],
   "source": [
    "# Compute distance to last scattering (or peak thereof)\n",
    "back = camb.get_background(pars)\n",
    "eta_rec = back.tau_maxvis # comoving horizon at last-scattering\n",
    "eta_0 = back.tau0 # comoving horizon today\n",
    "\n",
    "# Model parameters\n",
    "eta_star = 100.\n",
    "eta_hs = 250.\n",
    "        \n",
    "# Define maximum scale\n",
    "theta_max = np.max([0.1,np.sqrt(4.*np.pi)*np.asarray(eta_star)/eta_0])\n",
    "            \n",
    "# Input theta array\n",
    "theta_vec = np.linspace(0.,theta_max,1000)"
   ]
  },
  {
   "cell_type": "code",
   "execution_count": 21,
   "metadata": {},
   "outputs": [
    {
     "name": "stdout",
     "output_type": "stream",
     "text": [
      "Computing hotspot profile with n_l: 3499, n_k: 1994\n"
     ]
    },
    {
     "ename": "NameError",
     "evalue": "name 'integrate' is not defined",
     "output_type": "error",
     "traceback": [
      "\u001b[0;31m---------------------------------------------------------------------------\u001b[0m",
      "\u001b[0;31mNameError\u001b[0m                                 Traceback (most recent call last)",
      "Cell \u001b[0;32mIn[21], line 10\u001b[0m\n\u001b[1;32m      7\u001b[0m bessels \u001b[38;5;241m=\u001b[39m spherical_jn(transfer_l[:,\u001b[38;5;28;01mNone\u001b[39;00m],transfer_k\u001b[38;5;241m*\u001b[39m(eta_0\u001b[38;5;241m-\u001b[39meta_hs))\n\u001b[1;32m      9\u001b[0m \u001b[38;5;66;03m# Perform k integral\u001b[39;00m\n\u001b[0;32m---> 10\u001b[0m k_integ \u001b[38;5;241m=\u001b[39m \u001b[43mintegrate\u001b[49m\u001b[38;5;241m.\u001b[39msimpson(bessels\u001b[38;5;241m*\u001b[39mtransfer_func\u001b[38;5;241m*\u001b[39mfx_over_g(transfer_k\u001b[38;5;241m*\u001b[39meta_star)\u001b[38;5;241m/\u001b[39mtransfer_k,transfer_k)\u001b[38;5;241m/\u001b[39m(\u001b[38;5;241m2.\u001b[39m\u001b[38;5;241m*\u001b[39mnp\u001b[38;5;241m.\u001b[39mpi\u001b[38;5;241m*\u001b[39m\u001b[38;5;241m*\u001b[39m\u001b[38;5;241m2.\u001b[39m)\n\u001b[1;32m     12\u001b[0m \u001b[38;5;66;03m# Perform ell sum\u001b[39;00m\n\u001b[1;32m     13\u001b[0m profile \u001b[38;5;241m=\u001b[39m np\u001b[38;5;241m.\u001b[39msum(((\u001b[38;5;241m2.\u001b[39m\u001b[38;5;241m*\u001b[39mtransfer_l\u001b[38;5;241m+\u001b[39m\u001b[38;5;241m1.\u001b[39m)\u001b[38;5;241m*\u001b[39mk_integ)[:,\u001b[38;5;28;01mNone\u001b[39;00m]\u001b[38;5;241m*\u001b[39mall_legs,axis\u001b[38;5;241m=\u001b[39m\u001b[38;5;241m0\u001b[39m)\n",
      "\u001b[0;31mNameError\u001b[0m: name 'integrate' is not defined"
     ]
    }
   ],
   "source": [
    "print(\"Computing hotspot profile with n_l: %d, n_k: %d\"%(len(transfer_l),len(transfer_k)))\n",
    "\n",
    "# Compute all Legendre polynomials\n",
    "all_legs = np.stack([lpmn(0,max(transfer_l),np.cos(theta))[0].ravel() for theta in theta_vec]).T[2:]\n",
    "\n",
    "# Compute all Bessel functions\n",
    "bessels = spherical_jn(transfer_l[:,None],transfer_k*(eta_0-eta_hs))"
   ]
  },
  {
   "cell_type": "code",
   "execution_count": 42,
   "metadata": {},
   "outputs": [],
   "source": [
    "# Define profile function\n",
    "fx_over_g = lambda x: H2_dotphi*(sici(x)[0]-np.sin(x))\n",
    "            \n",
    "# Perform k integral\n",
    "k_integT = integrate.simpson(bessels*transferT_func*fx_over_g(transfer_k*eta_star)/transfer_k,x=transfer_k)/(2.*np.pi**2.)\n",
    "k_integE = integrate.simpson(bessels*transferE_func*fx_over_g(transfer_k*eta_star)/transfer_k,x=transfer_k)/(2.*np.pi**2.)\n",
    "\n",
    "# Perform ell sum\n",
    "profileT = np.sum(((2.*transfer_l+1.)*k_integT)[:,None]*all_legs,axis=0)\n",
    "profileE = np.sum(((2.*transfer_l+1.)*k_integE)[:,None]*all_legs,axis=0)"
   ]
  },
  {
   "cell_type": "code",
   "execution_count": 43,
   "metadata": {},
   "outputs": [
    {
     "data": {
      "image/png": "[encoded data removed]",
      "text/plain": [
       "<Figure size 640x480 with 1 Axes>"
      ]
     },
     "metadata": {},
     "output_type": "display_data"
    }
   ],
   "source": [
    "plt.plot(theta_vec, 1e6*profileT, label=r'T: $\\eta_\\star = %d$, $\\eta_{hs} = %d$'%(eta_star,eta_hs));\n",
    "plt.plot(theta_vec, 1e12*profileE, label=r'E ($\\times 10^6$): $\\eta_\\star = %d$, $\\eta_{hs} = %d$'%(eta_star,eta_hs));\n",
    "plt.xlabel(r'$\\theta$',fontsize=15)\n",
    "plt.ylabel(r'Angular Profile',fontsize=15);\n",
    "plt.xscale('log');\n",
    "plt.legend();"
   ]
  },
  {
   "cell_type": "code",
   "execution_count": null,
   "metadata": {},
   "outputs": [],
   "source": []
  }
 ],
 "metadata": {
  "kernelspec": {
   "display_name": "mpivenv2",
   "language": "python",
   "name": "python3"
  },
  "language_info": {
   "codemirror_mode": {
    "name": "ipython",
    "version": 3
   },
   "file_extension": ".py",
   "mimetype": "text/x-python",
   "name": "python",
   "nbconvert_exporter": "python",
   "pygments_lexer": "ipython3",
   "version": "3.9.15"
  }
 },
 "nbformat": 4,
 "nbformat_minor": 2
}
