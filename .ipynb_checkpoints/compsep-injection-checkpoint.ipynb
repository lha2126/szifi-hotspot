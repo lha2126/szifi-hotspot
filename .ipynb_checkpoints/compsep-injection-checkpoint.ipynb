{
 "cells": [
  {
   "cell_type": "code",
   "execution_count": 53,
   "id": "ee38e5c6-8da0-4636-9905-79cd4366faec",
   "metadata": {
    "tags": []
   },
   "outputs": [],
   "source": [
    "import numpy as np, szifi, healpy as hp, sys, os\n",
    "import matplotlib.pyplot as plt\n",
    "\n",
    "def is_interactive():\n",
    "    import __main__ as main\n",
    "    return not hasattr(main, '__file__')\n",
    "\n",
    "sim_no = 0\n",
    "test = is_interactive()\n",
    "analysis_type = 'soubhik'\n",
    "assert analysis_type=='soubhik'\n",
    "\n",
    "if test:\n",
    "    batch_no = 41\n",
    "    batch_size = 1\n",
    "    g = 1.0\n",
    "else:\n",
    "    batch_no = int(sys.argv[1])\n",
    "    g = float(sys.argv[2])\n",
    "    batch_size = 10\n",
    "    assert batch_no <= (768//batch_size+1)*batch_size\n",
    "    print(\"On batch number %d with g=%.2f\"%(batch_no,g))\n",
    "    \n",
    "# Check if already computed!\n",
    "if g==0:\n",
    "    if not test and os.path.exists('outputs/ffp10_sep_%d_batch%d_%s.npy'%(sim_no,batch_no,analysis_type)):\n",
    "        print(\"Output already computed; exiting!\")\n",
    "        sys.exit()\n",
    "else:\n",
    "    if not test and os.path.exists('outputs/ffp10_sep_%d_batch%d_%s_inj-g%.2f.npy'%(sim_no,batch_no,analysis_type,g)):\n",
    "        print(\"Output already computed; exiting!\")\n",
    "        sys.exit()"
   ]
  },
  {
   "cell_type": "code",
   "execution_count": 54,
   "id": "668a0b18-75ed-4b6c-b247-ffa713d0fd4c",
   "metadata": {
    "tags": []
   },
   "outputs": [],
   "source": [
    "### PARAMETERS\n",
    "params_szifi = szifi.params_szifi_default\n",
    "params_data = szifi.params_data_default\n",
    "params_model = szifi.params_model_default\n",
    "\n",
    "# Data paths\n",
    "params_szifi['path'] = '/mnt/home/ophilcox/szifi/'\n",
    "cutout_dir = '/mnt/home/ophilcox/ceph/szifi_cutouts/ffp10_sep_%d/'%sim_no\n",
    "if not os.path.exists(cutout_dir): os.makedirs(cutout_dir)\n",
    "params_szifi['path_data'] = cutout_dir \n",
    "\n",
    "# Fields\n",
    "params_data[\"field_ids\"] = np.arange(batch_no*batch_size,min([(batch_no+1)*batch_size,768]))\n",
    "params_data['data_set'] = 'Planck_pr4_compsep'\n",
    "\n",
    "import camb\n",
    "pars = camb.CAMBparams()\n",
    "pars.set_cosmology(H0=67.32, ombh2=0.022383, omch2=0.12011,tau=0.0543,mnu=0.06,omk=0,standard_neutrino_neff=True)\n",
    "back = camb.get_background(pars)\n",
    "eta_rec = back.tau_maxvis # comoving horizon at last-scattering\n",
    "eta_0 = back.tau0 # comoving horizon today\n",
    "\n",
    "# Fitting range\n",
    "theta_500 = np.geomspace(0.5,15.,15)\n",
    "eta_stars = np.geomspace(5,500,10)\n",
    "eta_hss = np.repeat(eta_rec,len(eta_stars))\n",
    "\n",
    "if test:\n",
    "    eta_stars = eta_stars[:2]\n",
    "    eta_hss = eta_hss[:2]\n",
    "    theta_500 = theta_500[:2]\n",
    "\n",
    "params_szifi['theta_500_vec_arcmin'] = theta_500\n",
    "params_szifi['eta_star_vec'] = eta_stars\n",
    "params_szifi['eta_hs_vec'] = eta_hss\n",
    "\n",
    "if analysis_type=='arnaud':\n",
    "    params_szifi['iterative'] = True\n",
    "else:\n",
    "    params_szifi['iterative'] = False\n",
    "params_szifi['lrange'] = [100,2500]\n",
    "\n",
    "# Other parameters\n",
    "params_szifi['inpaint'] = True\n",
    "params_szifi['deproject_cib'] = None\n",
    "params_szifi['estimate_spec'] = 'estimate'\n",
    "\n",
    "# SNR threshold\n",
    "params_szifi['q_th'] = 4.0\n",
    "params_szifi['q_th_noise'] = 4.0\n",
    "\n",
    "# Optionally save SNR maps\n",
    "params_szifi['save_snr_maps'] = False\n",
    "# if not os.path.exists(cutout_dir+'snr_maps/'): os.makedirs(cutout_dir+'snr_maps/')\n",
    "# params_szifi['snr_maps_path'] = cutout_dir+'snr_maps/'\n",
    "# params_szifi['snr_maps_name'] = 'planck_test'\n",
    "\n",
    "params_szifi['freqs'] = [0]"
   ]
  },
  {
   "cell_type": "code",
   "execution_count": 55,
   "id": "9b12c4c4-fc48-491a-aa85-3524847cbd05",
   "metadata": {},
   "outputs": [],
   "source": [
    "nx = 1024\n",
    "l = 14.8\n",
    "\n",
    "n_tiles = 768\n",
    "nside_tile = 8\n",
    "\n",
    "### MAKE CUTOUTS\n",
    "def get_cutout(inp_map, i):\n",
    "    plt.ioff()\n",
    "    lon,lat = hp.pix2ang(nside_tile,i,lonlat=True)\n",
    "    cutout = szifi.get_cutout(inp_map,[lon,lat],nx,l)\n",
    "    plt.close()\n",
    "    plt.ion()\n",
    "    return cutout\n",
    "\n",
    "def get_tilemap(i):\n",
    "    \"\"\"Compute tiling map for a given pixel center\"\"\"\n",
    "    \n",
    "    smap = np.zeros(hp.nside2npix(nside_tile))\n",
    "    smap[i] = 1\n",
    "    umap = hp.ud_grade(smap, 2048)\n",
    "    return get_cutout(umap, i)"
   ]
  },
  {
   "cell_type": "code",
   "execution_count": 56,
   "id": "7ce91966-5ac4-47a2-817f-84e86bea231f",
   "metadata": {},
   "outputs": [
    {
     "name": "stdout",
     "output_type": "stream",
     "text": [
      "Using precomputed injection cutouts\n"
     ]
    }
   ],
   "source": [
    "# Create injection cutouts, if they don't exist\n",
    "all_exist = True\n",
    "for i in params_data['field_ids']:\n",
    "    if not os.path.exists(cutout_dir+\"planck_field_\" + str(i) + \"_inj.npy\"): all_exist=False\n",
    "\n",
    "if all_exist:\n",
    "    print(\"Using precomputed injection cutouts\")\n",
    "    \n",
    "else:\n",
    "    print(\"Loading injection cutout for simulation %d\"%sim_no)\n",
    "\n",
    "    # Load map\n",
    "    injection_map = [hp.read_map('/mnt/home/ophilcox/ceph/szifi_cutouts/cutout300_sim%d_sep.fits'%sim_no)]\n",
    "    \n",
    "    print(\"Generating cutouts\")\n",
    "    for i in params_data['field_ids']:\n",
    "        print(\"On tile %d\"%i)\n",
    "        freqs = ['100']\n",
    "\n",
    "        # Compute mask cutouts\n",
    "        inj_cutouts = [get_cutout(injection_map[freq_index], i) for freq_index in range(len(freqs))]\n",
    "        inj_output = np.asarray([np.stack(inj_cutouts,axis=-1)])\n",
    "        np.save(cutout_dir+\"planck_field_\" + str(i) + \"_inj.npy\",inj_output)"
   ]
  },
  {
   "cell_type": "code",
   "execution_count": 57,
   "id": "68bcd85a-bd62-4703-97db-e47f96bd2042",
   "metadata": {},
   "outputs": [
    {
     "name": "stdout",
     "output_type": "stream",
     "text": [
      "Using precomputed cutouts\n"
     ]
    }
   ],
   "source": [
    "# Test if cutouts exist\n",
    "all_exist = True\n",
    "for i in params_data['field_ids']:\n",
    "    if not os.path.exists(cutout_dir+\"planck_field_\" + str(i) + \"_tmap.npy\"): all_exist=False\n",
    "    if not os.path.exists(cutout_dir+\"planck_field_\" + str(i) + \"_mask.npy\"): all_exist=False\n",
    "\n",
    "if all_exist:\n",
    "    print(\"Using precomputed cutouts\")\n",
    "    \n",
    "else:\n",
    "    print(\"Loading simulation %d\"%sim_no)\n",
    "\n",
    "    # Parameters\n",
    "    freqs = ['100']\n",
    "\n",
    "    # Load frequency maps\n",
    "    print(\"Loading component-separation maps\")\n",
    "    freq_maps = [hp.read_map('/mnt/home/ophilcox/ceph/planck_npipe/sevem/SEVEM_NPIPE_sims/SEVEM_NPIPE_cmb_sim%s.fits'%(str(sim_no+200).zfill(4)))+hp.read_map('/mnt/home/ophilcox/ceph/planck_npipe/sevem/SEVEM_NPIPE_sims/SEVEM_NPIPE_noise_sim%s.fits'%(str(sim_no+200).zfill(4)))]\n",
    "    \n",
    "    # Load point-source mask\n",
    "    print(\"Loading point mask\")\n",
    "    all_point = hp.read_map('/mnt/home/ophilcox/ceph/planck_npipe/COM_Mask_CMB-Inpainting-Mask-Int_2048_R3.00.fits')\n",
    "\n",
    "    # Load common mask\n",
    "    gal_map = hp.read_map('/mnt/home/ophilcox/ceph/planck_npipe/COM_Mask_CMB-common-Mask-Int_2048_R3.00.fits')\n",
    "\n",
    "    print(\"Generating cutouts\")\n",
    "    for i in params_data['field_ids']:\n",
    "        print(\"On tile %d\"%i)\n",
    "\n",
    "        # Compute frequency cutouts\n",
    "        freq_cutouts = [get_cutout(freq_maps[freq_index], i) for freq_index in range(len(freqs))]\n",
    "        freq_output = np.asarray([np.stack(freq_cutouts,axis=-1)])\n",
    "        np.save(cutout_dir+\"planck_field_\" + str(i) + \"_tmap.npy\",freq_output)\n",
    "\n",
    "        # Compute mask cutouts\n",
    "        tile_cutout = get_tilemap(i)\n",
    "        gal_cutout = get_cutout(gal_map, i)\n",
    "        point_cutout = get_cutout(all_point, i)\n",
    "        mask_output = np.stack([gal_cutout, point_cutout, tile_cutout])\n",
    "        \n",
    "        np.save(cutout_dir+\"planck_field_\" + str(i) + \"_mask.npy\",mask_output)"
   ]
  },
  {
   "cell_type": "code",
   "execution_count": 58,
   "id": "1c257eab-0054-41ff-b350-0b440cfbc5d8",
   "metadata": {
    "tags": []
   },
   "outputs": [],
   "source": [
    "data = szifi.input_data(params_szifi=params_szifi,params_data=params_data)"
   ]
  },
  {
   "cell_type": "code",
   "execution_count": 59,
   "id": "58a96de3-8997-44e1-a2b4-eeab5b685bf1",
   "metadata": {
    "tags": []
   },
   "outputs": [],
   "source": [
    "params_szifi['q_th'] = 3.0\n",
    "params_szifi['q_th_noise'] = 3.0"
   ]
  },
  {
   "cell_type": "code",
   "execution_count": 60,
   "id": "d410fa35-6801-442a-8103-27b84290e6dd",
   "metadata": {
    "tags": []
   },
   "outputs": [
    {
     "name": "stdout",
     "output_type": "stream",
     "text": [
      "\n",
      "\n",
      "## Profile: soubhik\n",
      "Using a primordial-feature SED\n",
      "SZiFi\n",
      "\n",
      "\n",
      "MMF type: standard\n",
      "Iterative: False\n",
      "Extraction mode: find\n",
      "Experiment: Planck_pr4_compsep\n",
      "Frequency channels: [0]\n",
      "\n",
      "\n",
      "Field 41\n",
      "\n",
      "Gathering data\n",
      "Selecting frequency channels\n",
      "Initializing results\n",
      "Applying harmonic-space filtering\n",
      "Noise it 0\n",
      "Applying l-filtering\n",
      "Estimating power spectra\n",
      "Coupling matrix found\n",
      "Filtering covariance matrix\n",
      "Computing MMF weights\n",
      "Precomputing scmmf\n",
      "Constructing matched filters\n",
      "Cluster finding\n",
      "eta_* 0 5.0\n",
      "eta_HS 0 280.42513936898837\n",
      "Maximum scale: 0.100 radians\n",
      "eta_* 1 8.340502686000294\n",
      "eta_HS 1 280.42513936898837\n",
      "Maximum scale: 0.100 radians\n",
      "Detections SNR [3.98976602 3.83961293 3.78341398 3.74575375 3.70242579 3.6524061\n",
      " 3.62088676 3.61348968 3.56662997 3.5594532  3.53473347 3.5062067\n",
      " 3.4987102  3.4786576  3.45375988 3.45313804 3.43063824 3.42692277\n",
      " 3.40229318 3.34941558 3.3341082  3.33042027 3.31714405 3.2948956\n",
      " 3.28240771 3.21000544 3.19940581 3.15317469 3.13311072 3.13021377\n",
      " 3.12382724 3.11694413 3.11642233 3.09816377 3.08511756 3.05597811\n",
      " 3.04526504 3.03030754 3.02958774 3.02075634 3.0128456  3.00315382]\n"
     ]
    }
   ],
   "source": [
    "print(\"\\n\\n## Profile: %s\"%analysis_type)\n",
    "params_model['profile_type'] = analysis_type\n",
    "assert len(params_szifi['freqs'])==1\n",
    "\n",
    "cluster_finder = szifi.cluster_finder(params_szifi=params_szifi,params_model=params_model,data_file=data,rank=0)\n",
    "cluster_finder.find_clusters()"
   ]
  },
  {
   "cell_type": "code",
   "execution_count": 75,
   "id": "750df2db-fe35-453d-a21d-54756199c455",
   "metadata": {
    "tags": []
   },
   "outputs": [
    {
     "data": {
      "text/plain": [
       "12.162162162162161"
      ]
     },
     "execution_count": 75,
     "metadata": {},
     "output_type": "execute_result"
    }
   ],
   "source": [
    "np.pi/(data.nx*data.dx)"
   ]
  },
  {
   "cell_type": "code",
   "execution_count": 61,
   "id": "aba4c901-2559-446f-b2d7-fa9e19e82718",
   "metadata": {
    "tags": []
   },
   "outputs": [
    {
     "data": {
      "text/plain": [
       "array([162.78808085, 724.82398312, 724.82398312, 724.82398312,\n",
       "       724.82398312, 724.82398312, 724.82398312, 724.82398312,\n",
       "       162.78808085, 724.82398312, 162.78808085, 162.78808085,\n",
       "       724.82398312, 724.82398312, 724.82398312, 162.78808085,\n",
       "       724.82398312, 162.78808085, 724.82398312, 724.82398312,\n",
       "       724.82398312, 724.82398312, 162.78808085, 724.82398312,\n",
       "       162.78808085, 724.82398312, 162.78808085, 724.82398312,\n",
       "       724.82398312, 724.82398312, 724.82398312, 724.82398312,\n",
       "       724.82398312, 724.82398312, 724.82398312, 724.82398312,\n",
       "       724.82398312, 724.82398312, 162.78808085, 162.78808085,\n",
       "       162.78808085, 162.78808085])"
      ]
     },
     "execution_count": 61,
     "metadata": {},
     "output_type": "execute_result"
    }
   ],
   "source": [
    "ccat = cluster_finder.results_dict[41].catalogues['catalogue_find_0'].catalogue\n",
    "ccat['y0']/ccat['q_opt']"
   ]
  },
  {
   "cell_type": "code",
   "execution_count": 62,
   "id": "ef1ba0e0-fe4c-459b-a62d-ecc433a4c3e9",
   "metadata": {
    "tags": []
   },
   "outputs": [
    {
     "data": {
      "text/plain": [
       "array([8.34050269, 5.        , 5.        , 5.        , 5.        ,\n",
       "       5.        , 5.        , 5.        , 8.34050269, 5.        ,\n",
       "       8.34050269, 8.34050269, 5.        , 5.        , 5.        ,\n",
       "       8.34050269, 5.        , 8.34050269, 5.        , 5.        ,\n",
       "       5.        , 5.        , 8.34050269, 5.        , 8.34050269,\n",
       "       5.        , 8.34050269, 5.        , 5.        , 5.        ,\n",
       "       5.        , 5.        , 5.        , 5.        , 5.        ,\n",
       "       5.        , 5.        , 5.        , 8.34050269, 8.34050269,\n",
       "       8.34050269, 8.34050269])"
      ]
     },
     "execution_count": 62,
     "metadata": {},
     "output_type": "execute_result"
    }
   ],
   "source": [
    "ccat['eta_star']"
   ]
  },
  {
   "cell_type": "code",
   "execution_count": 70,
   "id": "626288dd-eb81-4d6f-a724-2f54e4f3de2c",
   "metadata": {
    "tags": []
   },
   "outputs": [
    {
     "data": {
      "text/plain": [
       "84.17508690473437"
      ]
     },
     "execution_count": 70,
     "metadata": {},
     "output_type": "execute_result"
    }
   ],
   "source": [
    "theta_max = np.max([0.1,np.sqrt(4.*np.pi)*np.asarray(8.3405)/eta_0])\n",
    "\n",
    "theta_vec = np.linspace(0.,theta_max,1000)\n",
    "p_cal_vec = np.load('model_soubhik_eta(8.34,280.43)_l3500_k(0.00,1.00,20).npy')\n",
    "\n",
    "from szifi.maps import rmap\n",
    "theta_map = rmap(data.pix).get_distance_map_wrt_centre([0.,0.])\n",
    "y_map = np.interp(theta_map,theta_vec,p_cal_vec,right=0.)\n",
    "\n",
    "t_map = np.zeros((data.pix.nx,data.pix.ny,data.data['experiment'].n_freqs))\n",
    "for i in range(0,data.data['experiment'].n_freqs):\n",
    "    t_map[:,:,i] = y_map#*sed[i]\n",
    "\n",
    "import scipy\n",
    "\n",
    "def get_std(tmap,tem,inv_cov,pix,theta_misc_template=[0.,0.],\n",
    "mmf_type=\"standard\",cmmf_prec=None,tem_nc=None,comp=0):\n",
    "\n",
    "    n_freqs = tmap.shape[2]\n",
    "    \n",
    "    # t(l, nu)\n",
    "    tem_fft = szifi.maps.get_fft_f(tem,pix)\n",
    "    tem_fft = szifi.maps.get_tmap_times_fvec(tem_fft,cmmf_prec.a_matrix[:,comp]) #new line\n",
    "    \n",
    "    # Apply N^-1(l)\n",
    "    filter_fft = szifi.utils.get_inv_cov_conjugate(tem_fft,inv_cov)\n",
    "    filter_fft[np.isnan(filter_fft)] = 0.\n",
    "    filter = szifi.maps.get_ifft_f(filter_fft,pix).real\n",
    "\n",
    "    # Compute template\n",
    "    tem = szifi.maps.get_tmap_times_fvec(tem,cmmf_prec.a_matrix[:,comp]).real \n",
    "\n",
    "    # Compute combination\n",
    "    norm = 0\n",
    "    for i in range(n_freqs):\n",
    "        norm += scipy.signal.fftconvolve(tem[:,:,i],filter[:,:,i],mode='same')[512,512]*pix.dx*pix.dy\n",
    "        \n",
    "    std = 1./np.sqrt(norm)\n",
    "    return std\n",
    "\n",
    "get_std(data.data['t_obs'][41], t_map, cluster_finder.inv_cov, data.pix, cmmf_prec=cluster_finder.cmmf)"
   ]
  },
  {
   "cell_type": "code",
   "execution_count": null,
   "id": "17e3051c-8e39-47a6-9d49-1b25979b1f28",
   "metadata": {},
   "outputs": [],
   "source": []
  },
  {
   "cell_type": "code",
   "execution_count": null,
   "id": "d6f4124f-5d99-4273-88c6-285de5731292",
   "metadata": {},
   "outputs": [],
   "source": []
  },
  {
   "cell_type": "code",
   "execution_count": 51,
   "id": "61ab810b-a902-4d0e-966b-031298b7df06",
   "metadata": {
    "tags": []
   },
   "outputs": [],
   "source": [
    "import pymaster as nmt\n",
    "\n",
    "i = 0\n",
    "j = 0\n",
    "llow = np.arange(50,2000,20)\n",
    "lhi = llow+100\n",
    "lcen = 0.5*(llow+lhi)\n",
    "binning = nmt.NmtBinFlat(llow, lhi)\n",
    "nmt_maps = []\n",
    "for i in range(len(data.data['t_obs'][41][0,0])):\n",
    "    nmt_maps.append(nmt.NmtFieldFlat(data.pix.dx*data.pix.nx,data.pix.dx*data.pix.nx,np.ones_like(data.data['t_obs'][41][:,:,0]), [data.data['t_obs'][41][:,:,i]]))\n",
    "\n",
    "Cls = nmt.compute_coupled_cell_flat(nmt_maps[0], nmt_maps[0], binning)"
   ]
  },
  {
   "cell_type": "code",
   "execution_count": 66,
   "id": "7dace138-6f36-4b37-9a8f-49d922edc13c",
   "metadata": {
    "tags": []
   },
   "outputs": [],
   "source": [
    "mm = np.load('model_soubhik_eta(10.00,280.43)_l3500_k(0.00,1.00,20).npy')"
   ]
  },
  {
   "cell_type": "code",
   "execution_count": null,
   "id": "e41bbfe3-8be5-42a3-ae1a-48784c29b624",
   "metadata": {},
   "outputs": [],
   "source": [
    "t_map = np.zeros((pix.nx,pix.ny,n_freqs))\n",
    "\n",
    "        for i in range(0,n_freqs):\n",
    "            t_map[:,:,i] = y_map*sed[i]\n"
   ]
  },
  {
   "cell_type": "code",
   "execution_count": 69,
   "id": "89a5f0e8-13c6-49d1-ae54-3cc4c8281beb",
   "metadata": {
    "tags": []
   },
   "outputs": [
    {
     "data": {
      "text/plain": [
       "<function szifi.maps.get_fft(map_value, pix)>"
      ]
     },
     "execution_count": 69,
     "metadata": {},
     "output_type": "execute_result"
    }
   ],
   "source": []
  },
  {
   "cell_type": "code",
   "execution_count": 52,
   "id": "36f52041-a784-407c-9015-dc096c0d9ec6",
   "metadata": {
    "tags": []
   },
   "outputs": [
    {
     "data": {
      "text/plain": [
       "[<matplotlib.lines.Line2D at 0x1554133f98e0>]"
      ]
     },
     "execution_count": 52,
     "metadata": {},
     "output_type": "execute_result"
    },
    {
     "data": {
      "image/png": "[encoded data removed]",
      "text/plain": [
       "<Figure size 640x480 with 1 Axes>"
      ]
     },
     "metadata": {},
     "output_type": "display_data"
    }
   ],
   "source": [
    "plt.plot(lcen, lcen*(lcen+1)/(2.*np.pi)*Cls[0])"
   ]
  },
  {
   "cell_type": "code",
   "execution_count": null,
   "id": "67557061-b32e-47fc-b713-a4d02dac3092",
   "metadata": {},
   "outputs": [],
   "source": [
    "z"
   ]
  },
  {
   "cell_type": "code",
   "execution_count": 63,
   "id": "c6cc01ba-0328-4a7e-a723-9c21f939dfa2",
   "metadata": {},
   "outputs": [
    {
     "ename": "NameError",
     "evalue": "name 'd2' is not defined",
     "output_type": "error",
     "traceback": [
      "\u001b[0;31m---------------------------------------------------------------------------\u001b[0m",
      "\u001b[0;31mNameError\u001b[0m                                 Traceback (most recent call last)",
      "Cell \u001b[0;32mIn[63], line 3\u001b[0m\n\u001b[1;32m      1\u001b[0m \u001b[38;5;66;03m# Add the templates\u001b[39;00m\n\u001b[1;32m      2\u001b[0m \u001b[38;5;28;01mfor\u001b[39;00m f \u001b[38;5;129;01min\u001b[39;00m params_data[\u001b[38;5;124m'\u001b[39m\u001b[38;5;124mfield_ids\u001b[39m\u001b[38;5;124m'\u001b[39m]:\n\u001b[0;32m----> 3\u001b[0m     d2 \u001b[38;5;241m+\u001b[39m\u001b[38;5;241m=\u001b[39m g\u001b[38;5;241m*\u001b[39mnp\u001b[38;5;241m.\u001b[39mload(cutout_dir\u001b[38;5;241m+\u001b[39m\u001b[38;5;124m\"\u001b[39m\u001b[38;5;124mplanck_field_\u001b[39m\u001b[38;5;124m\"\u001b[39m \u001b[38;5;241m+\u001b[39m \u001b[38;5;28mstr\u001b[39m(f) \u001b[38;5;241m+\u001b[39m \u001b[38;5;124m\"\u001b[39m\u001b[38;5;124m_inj.npy\u001b[39m\u001b[38;5;124m\"\u001b[39m)[\u001b[38;5;241m0\u001b[39m]\n\u001b[1;32m      4\u001b[0m \u001b[38;5;28mprint\u001b[39m(\u001b[38;5;124m\"\u001b[39m\u001b[38;5;124mAdded g = \u001b[39m\u001b[38;5;132;01m%.2f\u001b[39;00m\u001b[38;5;124m templates\u001b[39m\u001b[38;5;124m\"\u001b[39m\u001b[38;5;241m%\u001b[39mg)\n",
      "\u001b[0;31mNameError\u001b[0m: name 'd2' is not defined"
     ]
    }
   ],
   "source": [
    "# Add the templates\n",
    "for f in params_data['field_ids']:\n",
    "    d2 += g*np.load(cutout_dir+\"planck_field_\" + str(f) + \"_inj.npy\")[0]\n",
    "print(\"Added g = %.2f templates\"%g)"
   ]
  },
  {
   "cell_type": "code",
   "execution_count": 64,
   "id": "6e89b916-931b-4364-81fa-abce2d549064",
   "metadata": {
    "tags": []
   },
   "outputs": [],
   "source": [
    "tt = np.load(cutout_dir+\"planck_field_\" + str(f) + \"_inj.npy\")[0]"
   ]
  },
  {
   "cell_type": "code",
   "execution_count": null,
   "id": "80605f95-bf78-4cfd-8622-4279b22a3631",
   "metadata": {},
   "outputs": [],
   "source": []
  },
  {
   "cell_type": "code",
   "execution_count": null,
   "id": "9f41f943-062d-4087-8ba9-30b24abfa43f",
   "metadata": {},
   "outputs": [],
   "source": []
  },
  {
   "cell_type": "code",
   "execution_count": null,
   "id": "3540a2b5-948a-46f8-9fd4-50be0c6e2314",
   "metadata": {},
   "outputs": [],
   "source": []
  },
  {
   "cell_type": "code",
   "execution_count": null,
   "id": "7f394d59-e36e-4a80-8b1e-5c559a6af602",
   "metadata": {},
   "outputs": [],
   "source": []
  },
  {
   "cell_type": "code",
   "execution_count": null,
   "id": "0513b217-2905-4632-96f1-b2054374a36c",
   "metadata": {},
   "outputs": [],
   "source": [
    "# Now add injection map\n",
    "data = szifi.input_data(params_szifi=params_szifi,params_data=params_data)\n",
    "\n",
    "# Add the templates\n",
    "for f in params_data['field_ids']:\n",
    "    data.data['t_obs'][f] += g*np.load(cutout_dir+\"planck_field_\" + str(f) + \"_inj.npy\")[0]\n",
    "print(\"Added g = %.2f templates\"%g)\n",
    "\n",
    "print(\"\\n\\n## Profile: %s\"%analysis_type)\n",
    "params_model['profile_type'] = analysis_type\n",
    "assert len(params_szifi['freqs'])==1\n",
    "\n",
    "cluster_finder = szifi.cluster_finder(params_szifi=params_szifi,params_model=params_model,data_file=data,rank=0)\n",
    "cluster_finder.find_clusters()\n",
    "\n",
    "results = cluster_finder.results_dict\n",
    "detection_processor = szifi.detection_processor(results,params_szifi,params_model['profile_type'])\n",
    "\n",
    "if analysis_type=='arnaud':\n",
    "    try:\n",
    "        catalogue = detection_processor.results.catalogues[\"catalogue_find_1\"]\n",
    "    except KeyError:\n",
    "        catalogue = szifi.cat.cluster_catalogue()\n",
    "else:\n",
    "    try:\n",
    "        catalogue = detection_processor.results.catalogues[\"catalogue_find_0\"]\n",
    "    except KeyError:\n",
    "        catalogue = szifi.cat.cluster_catalogue()\n",
    "\n",
    "q_th_final = 4.\n",
    "try:\n",
    "    catalogue = szifi.get_catalogue_q_th(catalogue,q_th_final)\n",
    "except TypeError:\n",
    "    catalogue = szifi.cat.cluster_catalogue()\n",
    "\n",
    "if g==0:\n",
    "    if not test: np.save('outputs/ffp10_sep_%d_batch%d_%s.npy'%(sim_no,batch_no,analysis_type),catalogue)\n",
    "else:\n",
    "    if not test: np.save('outputs/ffp10_sep_%d_batch%d_%s_inj-g%.2f.npy'%(sim_no,batch_no,analysis_type,g),catalogue)    "
   ]
  },
  {
   "cell_type": "code",
   "execution_count": null,
   "id": "855e3dce-6ee8-4821-83a6-458234c4ff7b",
   "metadata": {},
   "outputs": [],
   "source": []
  },
  {
   "cell_type": "markdown",
   "id": "23d27399-2689-496c-98dd-893f3ffb534b",
   "metadata": {},
   "source": [
    "### Make injection map"
   ]
  },
  {
   "cell_type": "code",
   "execution_count": null,
   "id": "94f63f0a-cb5d-4b3d-99fa-62b6795f0bd7",
   "metadata": {
    "tags": []
   },
   "outputs": [],
   "source": [
    "data = szifi.input_data(params_szifi=params_szifi,params_data=params_data)"
   ]
  },
  {
   "cell_type": "code",
   "execution_count": null,
   "id": "a4226511-3499-4f8f-8247-f5a45a6401dd",
   "metadata": {
    "tags": []
   },
   "outputs": [],
   "source": [
    "all_eta_star = np.geomspace(5,500,10)\n",
    "inj_cat = np.load('injection300_sim%d.npz'%sim_no)\n",
    "lon = inj_cat['lon']\n",
    "lat = inj_cat['lat']"
   ]
  },
  {
   "cell_type": "code",
   "execution_count": null,
   "id": "b1878245-6918-4d7f-9e71-c548a062b37b",
   "metadata": {
    "tags": []
   },
   "outputs": [],
   "source": [
    "xymap = np.meshgrid(np.arange(-data.nx/2,data.nx/2)*data.dx,np.arange(-data.nx/2,data.nx/2)*data.dx)\n",
    "dismap = np.sqrt(xymap[0]**2+xymap[1]**2)\n",
    "inds = np.argsort(dismap.ravel())[::-1]   \n",
    "from scipy.interpolate import interp1d\n",
    "    \n",
    "tem_interps = []\n",
    "max_dis = []\n",
    "for i in range(len(all_eta_star)):\n",
    "    this_eta_star = all_eta_star[i]\n",
    "    this_eta_hs = eta_rec\n",
    "    \n",
    "    png_model = szifi.model.png({'eta_star':this_eta_star,'eta_hs':this_eta_hs},kmin=1e-6,kmax=1,lmax=3500,reduce_k=20,type=\"soubhik\")\n",
    "\n",
    "    data = szifi.input_data(params_szifi=params_szifi,params_data=params_data)\n",
    "\n",
    "    t_tem = png_model.get_t_map_convolved(data.pix,data.data['experiment'], theta_misc=[0.-data.dx/2,0-data.dx/2],beam='real', get_nc=False,sed=None)\n",
    "    rel_t = np.abs(t_tem[:,:,0]/np.max(np.abs(t_tem[:,:,0]))).ravel()\n",
    "    thresh = 1e-3\n",
    "    while True:\n",
    "        try:\n",
    "            dis_max = dismap.ravel()[inds][np.where(np.diff(rel_t[inds]<thresh))[0][0]]\n",
    "            break\n",
    "        except IndexError:\n",
    "            thresh *= 1.1\n",
    "    print(thresh)\n",
    "    \n",
    "    tem_interps.append(interp1d(dismap[dismap<dis_max],np.asarray([t_tem[:,:,j][dismap<dis_max] for j in range(1)]), fill_value=0, bounds_error=False))\n",
    "    max_dis.append(dis_max)\n",
    "    print(\"0.1%% scale: %.3f radians\"%dis_max)"
   ]
  },
  {
   "cell_type": "code",
   "execution_count": null,
   "id": "589dc0ae-f991-43c0-b3dc-e0c2228b3ab5",
   "metadata": {
    "tags": []
   },
   "outputs": [],
   "source": [
    "nside = 2048\n",
    "template_map = np.zeros((hp.nside2npix(nside), 1))\n",
    "\n",
    "for profile_id in range(len(lon)):\n",
    "    if profile_id%10==0: print(\"Adding profile %d\"%profile_id)\n",
    "    n_close = 0\n",
    "    close_pix = hp.ang2pix(nside, lon[profile_id], lat[profile_id], lonlat=True)\n",
    "    for i in range(500):\n",
    "        close_pix = np.unique(np.concatenate([np.asarray(close_pix).ravel(),\n",
    "                                              hp.get_all_neighbours(nside, close_pix).ravel()]))\n",
    "        # Check distances\n",
    "        dis = hp.rotator.angdist(hp.pix2ang(nside, close_pix, lonlat=True), (lon[profile_id], lat[profile_id]), lonlat=True)\n",
    "        eta_ind = np.where(inj_cat['eta_stars'][profile_id]==all_eta_star)[0][0]\n",
    "        if n_close==np.sum(dis<max_dis[eta_ind]): break\n",
    "        n_close = np.sum(dis<max_dis[eta_ind])\n",
    "        if i==499: print(\"Not all neighbors found!\")\n",
    "\n",
    "    template_map[close_pix,:] += tem_interps[eta_ind](dis).T"
   ]
  },
  {
   "cell_type": "code",
   "execution_count": null,
   "id": "1e358fc2-f73e-4d7f-ad02-0f44fb0aaf32",
   "metadata": {
    "tags": []
   },
   "outputs": [],
   "source": [
    "template_map[-1,0] = 0\n",
    "hp.write_map('/mnt/home/ophilcox/ceph/szifi_cutouts/cutout300_sim%d_sep.fits'%sim_no, template_map.T, overwrite=True)"
   ]
  },
  {
   "cell_type": "code",
   "execution_count": null,
   "id": "0a2b3c3a-bb51-43d8-bf46-42a637b617eb",
   "metadata": {},
   "outputs": [],
   "source": []
  },
  {
   "cell_type": "markdown",
   "id": "528baab3-2388-45f4-a289-59475fc61f12",
   "metadata": {},
   "source": [
    "### Analysis"
   ]
  },
  {
   "cell_type": "code",
   "execution_count": null,
   "id": "3e06b072-8012-4fbe-9a46-50be1f272af8",
   "metadata": {
    "tags": []
   },
   "outputs": [],
   "source": [
    "def load_png_catalog(sim_no, g=0.0):\n",
    "    i = 0\n",
    "    for batch in range(77):\n",
    "        if g==0:\n",
    "            name = 'outputs/ffp10_sep_%d_batch%d_soubhik.npy'%(sim_no,batch)\n",
    "        else:\n",
    "            name = 'outputs/ffp10_sep_%d_batch%d_soubhik_inj-g%.2f.npy'%(sim_no,batch,g)\n",
    "        try:\n",
    "            if i==0:\n",
    "                tot_cat = np.load(name,allow_pickle=True).item()\n",
    "                i += 1\n",
    "            else:\n",
    "                try:\n",
    "                    tot_cat.append(np.load(name,allow_pickle=True).item())\n",
    "                except KeyError:\n",
    "                    print(\"Key: %s\"%batch)\n",
    "                i += 1\n",
    "        except IOError:\n",
    "            #print(batch)\n",
    "            continue\n",
    "    if i!=0:\n",
    "        print(\"Found %d PNG g=%.2f hotspots (SNR>4) from %d catalogues\"%(len(tot_cat.catalogue['q_opt']),g,i))\n",
    "    return tot_cat\n",
    "\n",
    "# Cut to SNR of 5\n",
    "snr_min = 5\n",
    "sim_no = 0\n",
    "png_g0 = szifi.get_catalogue_q_th(load_png_catalog(sim_no, g=0.0), snr_min)\n",
    "png_g1 = szifi.get_catalogue_q_th(load_png_catalog(sim_no, g=1.0), snr_min)\n",
    "png_g2 = szifi.get_catalogue_q_th(load_png_catalog(sim_no, g=2.0), snr_min)\n",
    "#png_g3 = szifi.get_catalogue_q_th(load_png_catalog(sim_no, g=3.0), snr_min)"
   ]
  },
  {
   "cell_type": "code",
   "execution_count": null,
   "id": "fd5d5505-d6a6-4697-82ce-ba1b1199e240",
   "metadata": {},
   "outputs": [],
   "source": [
    "def process_png_sep(png_cat, merge_radius=10, point_exclusion_factor=5, sz_radius=10):\n",
    "    \"\"\"Process a component-separated PNG catalogue, applying various cuts\"\"\"\n",
    "    \n",
    "    print(\"\\nStarted with %d PNG hotspots\"%len(png_cat.catalogue['q_opt']))\n",
    "    \n",
    "    # Merge sources\n",
    "    png_cat_merge = szifi.merge_detections(png_cat,radius_arcmin=merge_radius,return_merge_flag=False,mode=\"closest\")\n",
    "    print(\"Found %d merged PNG hotspots\"%len(png_cat_merge.catalogue['q_opt']))\n",
    "    \n",
    "    return png_cat_merge\n",
    "    \n",
    "#     # Remove nearby point-sources\n",
    "#     png_cat_nopoint = remove_point_sources(png_cat_merge, exclusion_factor=point_exclusion_factor)\n",
    "#     print(\"Found %d PNG hotspots after point-source cut\"%len(png_cat_nopoint.catalogue['q_opt']))\n",
    "\n",
    "#     # Remove SZ sources\n",
    "#     png_cat_nosz = remove_cat(png_cat_nopoint, sz_cat_nopoint, dis_arcmin=sz_radius)\n",
    "#     print(\"Found %d PNG hotspots after SZ-source cut\"%len(png_cat_nosz.catalogue['q_opt']))\n",
    "    \n",
    "#     # Remove galactic plane\n",
    "#     png_cat70 = cut_on_map(png_cat_nosz, gal70)\n",
    "#     print(\"Found %d PNG hotspots after 70%% galactic plane cut\"%len(png_cat70.catalogue['q_opt']))\n",
    "    \n",
    "#     # Return\n",
    "#     return png_cat70\n"
   ]
  },
  {
   "cell_type": "code",
   "execution_count": null,
   "id": "e2793b5b-3543-4030-821b-9bf7d02c3086",
   "metadata": {
    "tags": []
   },
   "outputs": [],
   "source": [
    "png_g0_proc = process_png_sep(png_g0, merge_radius=10, point_exclusion_factor=5, sz_radius=10)\n",
    "png_g1_proc = process_png_sep(png_g1, merge_radius=10, point_exclusion_factor=5, sz_radius=10)\n",
    "png_g2_proc = process_png_sep(png_g2, merge_radius=10, point_exclusion_factor=5, sz_radius=10)"
   ]
  },
  {
   "cell_type": "code",
   "execution_count": null,
   "id": "6ec52ed9-40e4-4b5e-b588-bda7d222ab19",
   "metadata": {
    "tags": []
   },
   "outputs": [],
   "source": [
    "true_cat = np.load('injection300_sim%d.npz'%sim_no)\n",
    "\n",
    "def identify_true_sources(input_cat, dis_arcmin=10):\n",
    "    \n",
    "    lon = input_cat.catalogue['lon']\n",
    "    lat = input_cat.catalogue['lat']\n",
    "\n",
    "    match_sources = []\n",
    "    all_close = []\n",
    "    for t in range(len(true_cat['lon'])):\n",
    "        \n",
    "        tdis = hp.rotator.angdist((true_cat['lon'][t],true_cat['lat'][t]),(lon,lat),lonlat=True)\n",
    "        \n",
    "        close_ids = np.where(tdis<dis_arcmin*np.pi/180./60.)[0]\n",
    "        if len(close_ids)==0:\n",
    "            match_sources.append([np.nan,np.nan,np.nan,np.nan,0])\n",
    "        else:\n",
    "            match_sources.append([input_cat.catalogue['lon'][close_ids].mean(),\n",
    "                                  input_cat.catalogue['lat'][close_ids].mean(),\n",
    "                                  input_cat.catalogue['q_opt'][close_ids].max(),\n",
    "                                  input_cat.catalogue['eta_star'][close_ids].mean(),\n",
    "                                  len(close_ids)])\n",
    "        all_close.append(close_ids)\n",
    "            \n",
    "    return np.asarray(match_sources), np.unique(np.concatenate(all_close))\n",
    "\n",
    "g0_match, match0_ids = identify_true_sources(png_g0_proc)\n",
    "g1_match, match1_ids = identify_true_sources(png_g1_proc)\n",
    "g2_match, match2_ids = identify_true_sources(png_g2_proc)\n",
    "#g3_match, match3_ids = identify_true_sources(png_g3_proc)"
   ]
  },
  {
   "cell_type": "code",
   "execution_count": null,
   "id": "db7804c2-48d8-4ec9-ad1c-bc201b50b70d",
   "metadata": {
    "tags": []
   },
   "outputs": [],
   "source": [
    "plt.title(\"SNR of true hotspots\")\n",
    "plt.scatter(true_cat['eta_stars'],g1_match[:,2],marker='x',alpha=0.5,label=r'$g=1$')\n",
    "plt.scatter(true_cat['eta_stars'],g2_match[:,2],marker='x',alpha=0.5,label=r'$g=2$')\n",
    "#plt.scatter(true_cat['eta_stars'],g3_match[:,2],marker='x',alpha=0.5,label=r'$g=3$')\n",
    "plt.xlabel(r'$\\eta_\\star$',fontsize=15);\n",
    "plt.ylabel(r'SNR',fontsize=15);\n",
    "plt.xscale('log');\n",
    "plt.legend(fontsize=12);"
   ]
  },
  {
   "cell_type": "code",
   "execution_count": null,
   "id": "4efb19de-42fd-4eea-a4ec-05a89423addc",
   "metadata": {
    "tags": []
   },
   "outputs": [],
   "source": [
    "plt.title(\"Sizes of true hotspots\")\n",
    "all_eta_star = np.geomspace(5,500,10)\n",
    "plt.scatter(true_cat['eta_stars'],g1_match[:,3],marker='x',alpha=0.5,label=r'$g=1$')\n",
    "plt.scatter(true_cat['eta_stars'],g2_match[:,3],marker='x',alpha=0.5,label=r'$g=2$')\n",
    "#plt.scatter(true_cat['eta_stars'],g3_match[:,3],marker='x',alpha=0.5,label=r'$g=3$')\n",
    "plt.xlabel(r'$\\eta_\\star^{\\rm true}$',fontsize=15);\n",
    "plt.ylabel(r'$\\eta_\\star^{\\rm recovered}$',fontsize=15);\n",
    "plt.xscale('log');\n",
    "plt.legend(fontsize=12);\n",
    "plt.yscale('log')\n",
    "plt.plot(all_eta_star[3:],all_eta_star[3:],ls='--',alpha=0.5,c='k')"
   ]
  },
  {
   "cell_type": "code",
   "execution_count": null,
   "id": "ea0a7f0f-e274-4f0b-b59a-c6beedf397de",
   "metadata": {
    "tags": []
   },
   "outputs": [],
   "source": [
    "completeness1 = []\n",
    "completeness2 = []\n",
    "#completeness3 = []\n",
    "for eta in all_eta_star:\n",
    "    f = eta==true_cat['eta_stars']\n",
    "    completeness1.append(np.isfinite(g1_match[f,0]).sum()/np.sum(f))\n",
    "    completeness2.append(np.isfinite(g2_match[f,0]).sum()/np.sum(f))\n",
    "#    completeness3.append(np.isfinite(g3_match[f,0]).sum()/np.sum(f))\n",
    "plt.plot(all_eta_star,completeness1,marker='o',ls='--',alpha=1.,label=r'$g=1$')\n",
    "plt.plot(all_eta_star,completeness2,marker='o',ls='--',alpha=1.,label=r'$g=2$')\n",
    "#plt.plot(all_eta_star,completeness3,marker='o',ls='--',alpha=1.,label=r'$g=3$')\n",
    "plt.xlabel(r'$\\eta_\\star$',fontsize=15);\n",
    "plt.title('Completeness',fontsize=13)\n",
    "plt.ylabel(r'Fraction of inputs detected',fontsize=15);\n",
    "plt.legend(fontsize=12);\n",
    "plt.xscale('log');"
   ]
  },
  {
   "cell_type": "code",
   "execution_count": null,
   "id": "34ed938d-f026-4fd4-a5c6-59ce7512bf7d",
   "metadata": {
    "tags": []
   },
   "outputs": [],
   "source": [
    "png_cats = [png_g0_proc,png_g1_proc, png_g2_proc]#, png_g3_proc]\n",
    "match_ids = [[],match1_ids, match2_ids]#, match3_ids]\n",
    "\n",
    "for ii,g in enumerate([0,1,2]):\n",
    "    in_catalog = np.asarray([i in match_ids[ii] for i in range(len(png_cats[ii].catalogue['y0']))])\n",
    "\n",
    "    plt.figure()\n",
    "    plt.title(r'$g=%.2f$'%g,fontsize=12);\n",
    "    plt.scatter(png_cats[ii].catalogue['q_opt'][~in_catalog],png_cats[ii].catalogue['y0'][~in_catalog],alpha=0.3,s=10,label='Spurious')\n",
    "    plt.scatter(png_cats[ii].catalogue['q_opt'][in_catalog],png_cats[ii].catalogue['y0'][in_catalog],alpha=1.0,s=10,label='True Sources')\n",
    "    plt.hlines(g,5,25,linestyles='--',color='k',alpha=0.5)\n",
    "    plt.yscale('log');\n",
    "    plt.legend(fontsize=12);\n",
    "    plt.xlabel(r'SNR',fontsize=12);\n",
    "    plt.ylabel(r'$g^{\\rm est}$',fontsize=12);"
   ]
  },
  {
   "cell_type": "markdown",
   "id": "868ba92e-9c0f-4b40-bcfd-c84a2c946515",
   "metadata": {},
   "source": [
    "### Error Distribution"
   ]
  },
  {
   "cell_type": "code",
   "execution_count": null,
   "id": "4fbf68c0-0788-4f3f-bab5-64ba99f6a9db",
   "metadata": {
    "tags": []
   },
   "outputs": [],
   "source": [
    "plt.scatter(png_g0_proc.catalogue['eta_star'],png_g0_proc.catalogue['y0']/png_g0_proc.catalogue['q_opt'],alpha=0.5,label='Null')\n",
    "plt.scatter(png_g1_proc.catalogue['eta_star'],png_g1_proc.catalogue['y0']/png_g1_proc.catalogue['q_opt'],alpha=0.3,label='g=1')\n",
    "plt.scatter(png_g2_proc.catalogue['eta_star'],png_g2_proc.catalogue['y0']/png_g2_proc.catalogue['q_opt'],alpha=0.3,label='g=2')\n",
    "plt.xlabel(r'$\\eta_\\star$',fontsize=13);\n",
    "plt.ylabel(r'$\\sigma(g)$',fontsize=13);\n",
    "plt.legend(fontsize=12);\n",
    "plt.yscale('log')\n",
    "plt.xscale('log')"
   ]
  },
  {
   "cell_type": "markdown",
   "id": "01564493-a9c3-452d-ac14-1e2094755cb2",
   "metadata": {},
   "source": [
    "### this seems wrong!! are we normalizing data incorrectly??"
   ]
  },
  {
   "cell_type": "code",
   "execution_count": null,
   "id": "1fda33d8-4c84-47e5-8ee6-6cd9630d86e2",
   "metadata": {
    "tags": []
   },
   "outputs": [],
   "source": [
    "import numpy as np\n",
    "%pylab inline\n",
    "ds = np.load('/mnt/home/ophilcox/ceph/szifi_cutouts/ffp10_sep_0/planck_field_0_inj.npy')\n",
    "df = np.load('/mnt/home/ophilcox/ceph/szifi_cutouts/ffp10_0_cleaned/planck_field_0_inj.npy')\n",
    "ms = np.load('/mnt/home/ophilcox/ceph/szifi_cutouts/ffp10_sep_0/planck_field_0_mask.npy')\n",
    "mf = np.load('/mnt/home/ophilcox/ceph/szifi_cutouts/ffp10_0_cleaned/planck_field_0_mask.npy')"
   ]
  },
  {
   "cell_type": "code",
   "execution_count": null,
   "id": "41a71a6c-6c98-4b9e-8004-18a843e5ca4b",
   "metadata": {},
   "outputs": [],
   "source": []
  },
  {
   "cell_type": "code",
   "execution_count": null,
   "id": "f905cc1b-e80e-4487-b3e7-f99f6f766e78",
   "metadata": {},
   "outputs": [],
   "source": []
  }
 ],
 "metadata": {
  "kernelspec": {
   "display_name": "nmt-env",
   "language": "python",
   "name": "nmt-env"
  },
  "language_info": {
   "codemirror_mode": {
    "name": "ipython",
    "version": 3
   },
   "file_extension": ".py",
   "mimetype": "text/x-python",
   "name": "python",
   "nbconvert_exporter": "python",
   "pygments_lexer": "ipython3",
   "version": "3.12.2"
  }
 },
 "nbformat": 4,
 "nbformat_minor": 5
}
