{
 "cells": [
  {
   "cell_type": "markdown",
   "metadata": {},
   "source": [
    "### Imports"
   ]
  },
  {
   "cell_type": "code",
   "execution_count": 8,
   "metadata": {
    "tags": []
   },
   "outputs": [
    {
     "name": "stdout",
     "output_type": "stream",
     "text": [
      "%pylab is deprecated, use %matplotlib inline and import the required libraries.\n",
      "Populating the interactive namespace from numpy and matplotlib\n"
     ]
    }
   ],
   "source": [
    "%pylab inline"
   ]
  },
  {
   "cell_type": "code",
   "execution_count": 9,
   "metadata": {
    "tags": []
   },
   "outputs": [],
   "source": [
    "import numpy as np, os, szifi"
   ]
  },
  {
   "cell_type": "markdown",
   "metadata": {},
   "source": [
    "# 1) Load Parameters"
   ]
  },
  {
   "cell_type": "markdown",
   "metadata": {},
   "source": [
    "- It assumes that we have also split the data into patches (see get_cutout.py?)"
   ]
  },
  {
   "cell_type": "code",
   "execution_count": 10,
   "metadata": {
    "tags": []
   },
   "outputs": [],
   "source": [
    "params_szifi = szifi.params_szifi_default\n",
    "params_data = szifi.params_data_default\n",
    "params_model = szifi.params_model_default\n",
    "\n",
    "params_szifi = szifi.params_szifi_default\n",
    "\n",
    "# Data paths\n",
    "cutout_dir = '/mnt/home/ophilcox/ceph/szifi_cutouts/'\n",
    "if not os.path.exists(cutout_dir): os.makedirs(cutout_dir)\n",
    "\n",
    "params_szifi['path'] = '/mnt/home/ophilcox/szifi/'\n",
    "params_szifi['path_data'] = cutout_dir\n",
    "\n",
    "# Fields\n",
    "params_data[\"field_ids\"] = np.arange(5)\n",
    "\n",
    "# Fitting range\n",
    "theta_500 = np.geomspace(0.5,15.,5)\n",
    "params_szifi['theta_500_vec_arcmin'] = theta_500 # np.geomspace(0.5,15.,10)\n",
    "params_szifi['iterative'] = True #False\n",
    "params_szifi['lrange'] = [100,2500]\n",
    "\n",
    "params_szifi['inpaint'] = True\n",
    "params_szifi['deproject_cib'] = None\n",
    "params_szifi['estimate_spec'] = 'estimate'\n",
    "\n",
    "compute_coupling = True\n",
    "if not compute_coupling:\n",
    "    print(\"## Using previously computed coupling matrix!\")\n",
    "\n",
    "# SNR threshold\n",
    "params_szifi['q_th'] = 4.0\n",
    "params_szifi['q_th_noise'] = 4.0\n",
    "\n",
    "# Optionally save SNR maps\n",
    "params_szifi['save_snr_maps'] = True\n",
    "if not os.path.exists(cutout_dir+'snr_maps/'): os.makedirs(cutout_dir+'snr_maps/')\n",
    "params_szifi['snr_maps_path'] = cutout_dir+'snr_maps/'\n",
    "params_szifi['snr_maps_name'] = 'planck_test'"
   ]
  },
  {
   "cell_type": "code",
   "execution_count": 11,
   "metadata": {
    "tags": []
   },
   "outputs": [],
   "source": [
    "### Load data\n",
    "data = szifi.input_data(params_szifi=params_szifi,params_data=params_data)"
   ]
  },
  {
   "cell_type": "code",
   "execution_count": 13,
   "metadata": {
    "tags": []
   },
   "outputs": [
    {
     "data": {
      "text/plain": [
       "{0: '/mnt/home/ophilcox/ceph/szifi_cutouts/apod_smooth_1024.fits',\n",
       " 1: '/mnt/home/ophilcox/ceph/szifi_cutouts/apod_smooth_1024.fits',\n",
       " 2: '/mnt/home/ophilcox/ceph/szifi_cutouts/apod_smooth_1024.fits',\n",
       " 3: '/mnt/home/ophilcox/ceph/szifi_cutouts/apod_smooth_1024.fits',\n",
       " 4: '/mnt/home/ophilcox/ceph/szifi_cutouts/apod_smooth_1024.fits'}"
      ]
     },
     "execution_count": 13,
     "metadata": {},
     "output_type": "execute_result"
    }
   ],
   "source": [
    "data.data['coupling_matrix_name']"
   ]
  },
  {
   "cell_type": "markdown",
   "metadata": {
    "tags": []
   },
   "source": [
    "## 2a) Get Cutouts"
   ]
  },
  {
   "cell_type": "code",
   "execution_count": 6,
   "metadata": {
    "tags": []
   },
   "outputs": [],
   "source": [
    "import healpy as hp\n",
    "\n",
    "nx = data.nx\n",
    "l = data.l\n",
    "\n",
    "n_tiles = data.n_tile\n",
    "nside_tile = data.nside_tile\n",
    "tiles = np.arange(0,n_tiles)"
   ]
  },
  {
   "cell_type": "code",
   "execution_count": null,
   "metadata": {
    "tags": []
   },
   "outputs": [],
   "source": [
    "# Parameters\n",
    "planck_dir = '/mnt/home/ophilcox/ceph/planck_pr3_raw/'\n",
    "freqs = ['100','143','217','353-psb','545','857']\n",
    "\n",
    "# Load frequency maps\n",
    "freq_maps = []\n",
    "for freq in freqs:\n",
    "    freq_maps.append(hp.read_map(planck_dir+'HFI_SkyMap_%s_2048_R3.01_full.fits'%freq,field=0))\n",
    "    \n",
    "# Load point-source mask\n",
    "point_map = hp.read_map(planck_dir+'HFI_Mask_PointSrc_2048_R2.00.fits',field=[0,1,2,3,4,5])\n",
    "tot_point = np.sum([1-point_map[i] for i in range(len(point_map))],axis=0)\n",
    "all_point = (tot_point==0)\n",
    "\n",
    "# Load galactic mask (ordering: {20,40,60,70,80,90,97,99}%)\n",
    "gal_map = hp.read_map(planck_dir+'HFI_Mask_GalPlane-apo0_2048_R2.00.fits',field=5)\n",
    "\n",
    "# Check total mask\n",
    "print(\"Total mask: %.1f%% (for raw counts; might need further cleaning)\"%(100.*np.mean(((all_point!=1)+(gal_map!=1))!=1)))\n",
    "\n",
    "def get_cutout(inp_map, i):\n",
    "    plt.ioff()\n",
    "    lon,lat = hp.pix2ang(nside_tile,i,lonlat=True)\n",
    "    cutout = szifi.get_cutout(inp_map,[lon,lat],nx,l)\n",
    "    plt.close()\n",
    "    plt.ion()\n",
    "    return cutout\n",
    "\n",
    "def get_tilemap(i):\n",
    "    \"\"\"Compute tiling map for a given pixel center\"\"\"\n",
    "    \n",
    "    smap = np.zeros(hp.nside2npix(nside_tile))\n",
    "    smap[i] = 1\n",
    "    umap = hp.ud_grade(smap, 2048)\n",
    "    return get_cutout(umap, i)"
   ]
  },
  {
   "cell_type": "code",
   "execution_count": null,
   "metadata": {
    "tags": []
   },
   "outputs": [],
   "source": [
    "for i in params_data['field_ids']:\n",
    "    if i%10==0: print(\"On tile %d\"%i)\n",
    "\n",
    "    # Compute frequency cutouts\n",
    "    freq_cutouts = [get_cutout(freq_maps[freq_index], i) for freq_index in range(len(freqs))]\n",
    "    freq_output = np.asarray([np.stack(freq_cutouts,axis=-1)])\n",
    "    np.save(cutout_dir+\"planck_field_\" + str(i) + \"_tmap.npy\",freq_output)\n",
    "    \n",
    "    # Compute mask cutouts\n",
    "    tile_cutout = get_tilemap(i)\n",
    "    gal_cutout = get_cutout(gal_map, i)\n",
    "    point_cutout = get_cutout(all_point, i)\n",
    "    mask_output = np.stack([gal_cutout, point_cutout, tile_cutout])\n",
    "    np.save(cutout_dir+\"planck_field_\" + str(i) + \"_mask.npy\",mask_output)"
   ]
  },
  {
   "cell_type": "code",
   "execution_count": 5,
   "metadata": {
    "tags": []
   },
   "outputs": [],
   "source": [
    "### Load data\n",
    "data = szifi.input_data(params_szifi=params_szifi,params_data=params_data)"
   ]
  },
  {
   "cell_type": "markdown",
   "metadata": {
    "tags": []
   },
   "source": [
    "## 2b) Compute coupling matrix\n",
    "- This is slow and depends on the mask"
   ]
  },
  {
   "cell_type": "code",
   "execution_count": null,
   "metadata": {
    "tags": []
   },
   "outputs": [],
   "source": [
    "fac = 4\n",
    "\n",
    "if compute_coupling:\n",
    "    for field_id in params_data[\"field_ids\"]:\n",
    "        print(\"Running field ID %d\"%field_id)\n",
    "\n",
    "        mask = data.data[\"mask_ps\"][field_id]\n",
    "        pix = data.data[\"pix\"][field_id]\n",
    "        \n",
    "        if np.array_equal(mask, szifi.maps.get_apodised_mask(data.pix,np.ones((data.nx,data.nx)),\n",
    "                apotype=\"Smooth\",aposcale=0.2)):\n",
    "            \n",
    "            if not os.path.exists(params_szifi[\"path_data\"]+\"/apod_smooth_1024.fits\"):\n",
    "                coupling_name = params_szifi[\"path_data\"]+\"apod_smooth_1024.fits\"\n",
    "                ps = szifi.power_spectrum(pix,mask=mask,cm_compute=True,cm_compute_scratch=True,\n",
    "                                          bin_fac=fac,cm_save=True,cm_name=coupling_name)\n",
    "            else:\n",
    "                print(\"No coupling needed!\")\n",
    "                continue\n",
    "        \n",
    "        coupling_name = params_szifi[\"path\"]+\"/data/apod_smooth_\" + str(field_id) + \".fits\"\n",
    "\n",
    "        ps = szifi.power_spectrum(pix,mask=mask,cm_compute=True,cm_compute_scratch=True,\n",
    "                                  bin_fac=fac,cm_save=True,cm_name=coupling_name)\n",
    "        print(\"Coupling saved to %s\"%coupling_name)"
   ]
  },
  {
   "cell_type": "markdown",
   "metadata": {},
   "source": [
    "## 3) Plot input data"
   ]
  },
  {
   "cell_type": "code",
   "execution_count": null,
   "metadata": {
    "tags": []
   },
   "outputs": [],
   "source": [
    "d = np.load(cutout_dir+'planck_field_3_mask.npy')\n",
    "for i in range(3):\n",
    "    plt.figure()\n",
    "    plt.imshow(d[i])\n",
    "    plt.title('Field %d'%(i+1))"
   ]
  },
  {
   "cell_type": "code",
   "execution_count": null,
   "metadata": {
    "tags": []
   },
   "outputs": [],
   "source": [
    "this_field = 3\n",
    "fig,ax = plt.subplots(1,6,figsize=(16,4))\n",
    "fig.subplots_adjust(wspace=0.)\n",
    "for i in range(6):\n",
    "    ax[i].imshow(data.data['t_obs'][this_field][:,:,i]);\n",
    "    if i!=0: ax[i].yaxis.set_ticks([])\n",
    "    else: ax[0].yaxis.set_ticks([0,256,512,768,1024])\n",
    "    ax[i].xaxis.set_ticks([0,256,512,768,1024])\n",
    "    ax[i].xaxis.set_ticklabels([0,256,512,768,''])\n",
    "    ax[i].set_title(r\"$\\nu = %.0f\\,\\mathrm{GHz}$\"%(data.data['experiment'].nu_eff[i]/1e9))"
   ]
  },
  {
   "cell_type": "markdown",
   "metadata": {},
   "source": [
    "## 4) Find clusters"
   ]
  },
  {
   "cell_type": "code",
   "execution_count": 14,
   "metadata": {
    "tags": []
   },
   "outputs": [
    {
     "name": "stdout",
     "output_type": "stream",
     "text": [
      "SZiFi\n",
      "\n",
      "\n",
      "MMF type: standard\n",
      "Iterative: True\n",
      "Extraction mode: find\n",
      "Experiment: Planck_real\n",
      "Frequency channels: [0, 1, 2, 3, 4, 5]\n",
      "\n",
      "\n",
      "Field 0\n",
      "\n",
      "Gathering data\n",
      "Selecting frequency channels\n",
      "Inpainting point sources\n",
      "Initializing results\n",
      "Applying harmonic-space filtering\n",
      "Noise it 0\n",
      "Inpainting noise map\n",
      "Applying l-filtering\n",
      "Estimating power spectra\n",
      "Coupling matrix found\n"
     ]
    },
    {
     "ename": "RuntimeError",
     "evalue": "Error reading file /mnt/home/ophilcox/ceph/szifi_cutouts/apod_smooth_1024.fits\n",
     "output_type": "error",
     "traceback": [
      "\u001b[0;31m---------------------------------------------------------------------------\u001b[0m",
      "\u001b[0;31mRuntimeError\u001b[0m                              Traceback (most recent call last)",
      "Cell \u001b[0;32mIn[14], line 2\u001b[0m\n\u001b[1;32m      1\u001b[0m cluster_finder \u001b[38;5;241m=\u001b[39m szifi\u001b[38;5;241m.\u001b[39mcluster_finder(params_szifi\u001b[38;5;241m=\u001b[39mparams_szifi,params_model\u001b[38;5;241m=\u001b[39mparams_model,data_file\u001b[38;5;241m=\u001b[39mdata,rank\u001b[38;5;241m=\u001b[39m\u001b[38;5;241m0\u001b[39m)\n\u001b[0;32m----> 2\u001b[0m \u001b[43mcluster_finder\u001b[49m\u001b[38;5;241;43m.\u001b[39;49m\u001b[43mfind_clusters\u001b[49m\u001b[43m(\u001b[49m\u001b[43m)\u001b[49m\n",
      "File \u001b[0;32m~/szifi/szifi/mmf.py:202\u001b[0m, in \u001b[0;36mcluster_finder.find_clusters\u001b[0;34m(self)\u001b[0m\n\u001b[1;32m    199\u001b[0m     new_shape \u001b[38;5;241m=\u001b[39m maps\u001b[38;5;241m.\u001b[39mget_newshape_lmax1d((\u001b[38;5;28mself\u001b[39m\u001b[38;5;241m.\u001b[39mpix\u001b[38;5;241m.\u001b[39mnx, \u001b[38;5;28mself\u001b[39m\u001b[38;5;241m.\u001b[39mpix\u001b[38;5;241m.\u001b[39mny), lmax1d, \u001b[38;5;28mself\u001b[39m\u001b[38;5;241m.\u001b[39mpix\u001b[38;5;241m.\u001b[39mdx)\n\u001b[1;32m    201\u001b[0m bin_fac \u001b[38;5;241m=\u001b[39m \u001b[38;5;28mself\u001b[39m\u001b[38;5;241m.\u001b[39mparams_szifi[\u001b[38;5;124m\"\u001b[39m\u001b[38;5;124mpowspec_bin_fac\u001b[39m\u001b[38;5;124m\"\u001b[39m]\n\u001b[0;32m--> 202\u001b[0m \u001b[38;5;28mself\u001b[39m\u001b[38;5;241m.\u001b[39mps \u001b[38;5;241m=\u001b[39m \u001b[43mspec\u001b[49m\u001b[38;5;241;43m.\u001b[39;49m\u001b[43mpower_spectrum\u001b[49m\u001b[43m(\u001b[49m\u001b[38;5;28;43mself\u001b[39;49m\u001b[38;5;241;43m.\u001b[39;49m\u001b[43mpix\u001b[49m\u001b[43m,\u001b[49m\n\u001b[1;32m    203\u001b[0m \u001b[43m\u001b[49m\u001b[43mmask\u001b[49m\u001b[38;5;241;43m=\u001b[39;49m\u001b[38;5;28;43mself\u001b[39;49m\u001b[38;5;241;43m.\u001b[39;49m\u001b[43mmask_ps\u001b[49m\u001b[43m,\u001b[49m\n\u001b[1;32m    204\u001b[0m \u001b[43m\u001b[49m\u001b[43mcm_compute\u001b[49m\u001b[38;5;241;43m=\u001b[39;49m\u001b[38;5;28;43;01mTrue\u001b[39;49;00m\u001b[43m,\u001b[49m\n\u001b[1;32m    205\u001b[0m \u001b[43m\u001b[49m\u001b[43mcm_compute_scratch\u001b[49m\u001b[38;5;241;43m=\u001b[39;49m\u001b[38;5;28;43mself\u001b[39;49m\u001b[38;5;241;43m.\u001b[39;49m\u001b[43mparams_szifi\u001b[49m\u001b[43m[\u001b[49m\u001b[38;5;124;43m\"\u001b[39;49m\u001b[38;5;124;43mcompute_coupling_matrix\u001b[39;49m\u001b[38;5;124;43m\"\u001b[39;49m\u001b[43m]\u001b[49m\u001b[43m,\u001b[49m\n\u001b[1;32m    206\u001b[0m \u001b[43m\u001b[49m\u001b[43mcm_save\u001b[49m\u001b[38;5;241;43m=\u001b[39;49m\u001b[38;5;28;43mself\u001b[39;49m\u001b[38;5;241;43m.\u001b[39;49m\u001b[43mparams_szifi\u001b[49m\u001b[43m[\u001b[49m\u001b[38;5;124;43m\"\u001b[39;49m\u001b[38;5;124;43msave_coupling_matrix\u001b[39;49m\u001b[38;5;124;43m\"\u001b[39;49m\u001b[43m]\u001b[49m\u001b[43m,\u001b[49m\n\u001b[1;32m    207\u001b[0m \u001b[43m\u001b[49m\u001b[43mcm_name\u001b[49m\u001b[38;5;241;43m=\u001b[39;49m\u001b[38;5;28;43mself\u001b[39;49m\u001b[38;5;241;43m.\u001b[39;49m\u001b[43mcoupling_matrix_name\u001b[49m\u001b[43m,\u001b[49m\n\u001b[1;32m    208\u001b[0m \u001b[43m\u001b[49m\u001b[43mbin_fac\u001b[49m\u001b[38;5;241;43m=\u001b[39;49m\u001b[43mbin_fac\u001b[49m\u001b[43m,\u001b[49m\n\u001b[1;32m    209\u001b[0m \u001b[43m\u001b[49m\u001b[43mnew_shape\u001b[49m\u001b[38;5;241;43m=\u001b[39;49m\u001b[43mnew_shape\u001b[49m\u001b[43m)\u001b[49m\n\u001b[1;32m    211\u001b[0m \u001b[38;5;28mself\u001b[39m\u001b[38;5;241m.\u001b[39mcspec \u001b[38;5;241m=\u001b[39m spec\u001b[38;5;241m.\u001b[39mcross_spec(np\u001b[38;5;241m.\u001b[39marange(\u001b[38;5;28mlen\u001b[39m(\u001b[38;5;28mself\u001b[39m\u001b[38;5;241m.\u001b[39mparams_szifi[\u001b[38;5;124m\"\u001b[39m\u001b[38;5;124mfreqs\u001b[39m\u001b[38;5;124m\"\u001b[39m])))\n\u001b[1;32m    213\u001b[0m \u001b[38;5;28mself\u001b[39m\u001b[38;5;241m.\u001b[39mcspec\u001b[38;5;241m.\u001b[39mget_cross_spec(\u001b[38;5;28mself\u001b[39m\u001b[38;5;241m.\u001b[39mpix,\n\u001b[1;32m    214\u001b[0m t_map\u001b[38;5;241m=\u001b[39m\u001b[38;5;28mself\u001b[39m\u001b[38;5;241m.\u001b[39mt_noi,\n\u001b[1;32m    215\u001b[0m ps\u001b[38;5;241m=\u001b[39m\u001b[38;5;28mself\u001b[39m\u001b[38;5;241m.\u001b[39mps,\n\u001b[0;32m   (...)\u001b[0m\n\u001b[1;32m    220\u001b[0m bin_fac\u001b[38;5;241m=\u001b[39mbin_fac,\n\u001b[1;32m    221\u001b[0m new_shape\u001b[38;5;241m=\u001b[39mnew_shape)\n",
      "File \u001b[0;32m~/szifi/szifi/spec.py:89\u001b[0m, in \u001b[0;36mpower_spectrum.__init__\u001b[0;34m(self, pix, mask, cm_compute, cm_save, cm_name, bins, bin_fac, new_shape, cm_compute_scratch)\u001b[0m\n\u001b[1;32m     86\u001b[0m \u001b[38;5;28;01melse\u001b[39;00m:\n\u001b[1;32m     88\u001b[0m     \u001b[38;5;28mself\u001b[39m\u001b[38;5;241m.\u001b[39mw00 \u001b[38;5;241m=\u001b[39m nmt\u001b[38;5;241m.\u001b[39mNmtWorkspaceFlat()\n\u001b[0;32m---> 89\u001b[0m     \u001b[38;5;28;43mself\u001b[39;49m\u001b[38;5;241;43m.\u001b[39;49m\u001b[43mw00\u001b[49m\u001b[38;5;241;43m.\u001b[39;49m\u001b[43mread_from\u001b[49m\u001b[43m(\u001b[49m\u001b[43mcm_name\u001b[49m\u001b[43m)\u001b[49m\n",
      "File \u001b[0;32m~/mpivenv2/lib/python3.9/site-packages/pymaster/workspaces.py:272\u001b[0m, in \u001b[0;36mNmtWorkspaceFlat.read_from\u001b[0;34m(self, fname)\u001b[0m\n\u001b[1;32m    270\u001b[0m     lib\u001b[38;5;241m.\u001b[39mworkspace_flat_free(\u001b[38;5;28mself\u001b[39m\u001b[38;5;241m.\u001b[39mwsp)\n\u001b[1;32m    271\u001b[0m     \u001b[38;5;28mself\u001b[39m\u001b[38;5;241m.\u001b[39mwsp \u001b[38;5;241m=\u001b[39m \u001b[38;5;28;01mNone\u001b[39;00m\n\u001b[0;32m--> 272\u001b[0m \u001b[38;5;28mself\u001b[39m\u001b[38;5;241m.\u001b[39mwsp \u001b[38;5;241m=\u001b[39m \u001b[43mlib\u001b[49m\u001b[38;5;241;43m.\u001b[39;49m\u001b[43mread_workspace_flat\u001b[49m\u001b[43m(\u001b[49m\u001b[43mfname\u001b[49m\u001b[43m)\u001b[49m\n",
      "File \u001b[0;32m~/mpivenv2/lib/python3.9/site-packages/pymaster/nmtlib.py:663\u001b[0m, in \u001b[0;36mread_workspace_flat\u001b[0;34m(fname)\u001b[0m\n\u001b[1;32m    662\u001b[0m \u001b[38;5;28;01mdef\u001b[39;00m \u001b[38;5;21mread_workspace_flat\u001b[39m(fname):\n\u001b[0;32m--> 663\u001b[0m     \u001b[38;5;28;01mreturn\u001b[39;00m \u001b[43m_nmtlib\u001b[49m\u001b[38;5;241;43m.\u001b[39;49m\u001b[43mread_workspace_flat\u001b[49m\u001b[43m(\u001b[49m\u001b[43mfname\u001b[49m\u001b[43m)\u001b[49m\n",
      "\u001b[0;31mRuntimeError\u001b[0m: Error reading file /mnt/home/ophilcox/ceph/szifi_cutouts/apod_smooth_1024.fits\n"
     ]
    }
   ],
   "source": [
    "cluster_finder = szifi.cluster_finder(params_szifi=params_szifi,params_model=params_model,data_file=data,rank=0)\n",
    "cluster_finder.find_clusters()"
   ]
  },
  {
   "cell_type": "code",
   "execution_count": null,
   "metadata": {
    "tags": []
   },
   "outputs": [],
   "source": [
    "data.data['coupling_matrix_name']"
   ]
  },
  {
   "cell_type": "code",
   "execution_count": null,
   "metadata": {
    "tags": []
   },
   "outputs": [],
   "source": [
    "fig,ax = plt.subplots(1,len(theta_500),sharey=True,figsize=(15,6))\n",
    "fig.subplots_adjust(wspace=0.)\n",
    "field_index = 0\n",
    "v = 3\n",
    "\n",
    "for theta_index in range(len(theta_500)):\n",
    "    snr_test = np.load(cutout_dir+'snr_maps/planck_test_q_%d_%d.npy'%(field_index,theta_index))\n",
    "    cc=ax[theta_index].imshow(snr_test,vmax=v,vmin=-v,cmap=cm.RdBu_r)\n",
    "    ax[theta_index].xaxis.set_ticks([0,256,512,768,1024])\n",
    "    ax[theta_index].xaxis.set_ticklabels([0,256,512,768,''])\n",
    "    ax[theta_index].set_title(r\"$\\theta_{500}=%.1f$\"%theta_500[theta_index])\n",
    "#fig.colorbar(cc);"
   ]
  },
  {
   "cell_type": "markdown",
   "metadata": {},
   "source": [
    "## 5) Analyze results"
   ]
  },
  {
   "cell_type": "code",
   "execution_count": null,
   "metadata": {
    "tags": []
   },
   "outputs": [],
   "source": [
    "results = cluster_finder.results_dict\n",
    "\n",
    "detection_processor = szifi.detection_processor(results,params_szifi)\n",
    "\n",
    "catalogue_obs_noit = detection_processor.results.catalogues[\"catalogue_find_0\"]\n",
    "catalogue_obs_it = detection_processor.results.catalogues[\"catalogue_find_1\"]"
   ]
  },
  {
   "cell_type": "code",
   "execution_count": null,
   "metadata": {
    "tags": []
   },
   "outputs": [],
   "source": [
    "#Postprocess detections\n",
    "\n",
    "#Reimpose threshold\n",
    "\n",
    "q_th_final = 5.\n",
    "\n",
    "catalogue_obs_noit = szifi.get_catalogue_q_th(catalogue_obs_noit,q_th_final)\n",
    "catalogue_obs_it = szifi.get_catalogue_q_th(catalogue_obs_it,q_th_final)"
   ]
  },
  {
   "cell_type": "code",
   "execution_count": null,
   "metadata": {
    "tags": []
   },
   "outputs": [],
   "source": [
    "# Merge catalogues of all fields\n",
    "\n",
    "radius_arcmin = 10. #merging radius in arcmin\n",
    "\n",
    "# Without iteration\n",
    "catalogue_obs_noit = szifi.merge_detections(catalogue_obs_noit,radius_arcmin=radius_arcmin,return_merge_flag=True,mode=\"fof\")\n",
    "# First iteration\n",
    "catalogue_obs_it = szifi.merge_detections(catalogue_obs_it,radius_arcmin=radius_arcmin,return_merge_flag=True,mode=\"fof\")"
   ]
  },
  {
   "cell_type": "code",
   "execution_count": null,
   "metadata": {
    "tags": []
   },
   "outputs": [],
   "source": [
    "# Some plots\n",
    "\n",
    "plt.hist(catalogue_obs_it.catalogue[\"q_opt\"],color=\"tab:blue\",label=\"Iterative\")\n",
    "plt.hist(catalogue_obs_noit.catalogue[\"q_opt\"],color=\"tab:orange\",label=\"Non iterative\")\n",
    "plt.legend()\n",
    "plt.xlabel(\"Detection SNR\")\n",
    "plt.ylabel(\"Number of detections\")\n",
    "plt.savefig(\"detection_histogram.pdf\")\n",
    "plt.show()\n",
    "\n",
    "plt.scatter(catalogue_obs_noit.catalogue[\"q_opt\"],catalogue_obs_it.catalogue[\"q_opt\"])\n",
    "x = np.linspace(np.min(catalogue_obs_noit.catalogue[\"q_opt\"]),np.max(catalogue_obs_noit.catalogue[\"q_opt\"]),100)\n",
    "plt.plot(x,x,color=\"k\")\n",
    "plt.xlabel(\"Non-iterative SNR\")\n",
    "plt.ylabel(\"Iterative SNR\")\n",
    "plt.savefig(\"detection_itnoit_comparison.pdf\")\n",
    "plt.show()"
   ]
  },
  {
   "cell_type": "code",
   "execution_count": null,
   "metadata": {},
   "outputs": [],
   "source": []
  }
 ],
 "metadata": {
  "kernelspec": {
   "display_name": "mpivenv2",
   "language": "python",
   "name": "mpivenv2"
  },
  "language_info": {
   "codemirror_mode": {
    "name": "ipython",
    "version": 3
   },
   "file_extension": ".py",
   "mimetype": "text/x-python",
   "name": "python",
   "nbconvert_exporter": "python",
   "pygments_lexer": "ipython3",
   "version": "3.9.15"
  }
 },
 "nbformat": 4,
 "nbformat_minor": 4
}
